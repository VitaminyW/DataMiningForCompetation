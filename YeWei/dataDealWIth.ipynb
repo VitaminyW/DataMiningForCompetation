{
 "cells": [
  {
   "cell_type": "code",
   "execution_count": 4,
   "metadata": {
    "collapsed": true
   },
   "outputs": [],
   "source": [
    "import sys\n",
    "sys.path.append(r'D:\\学习\\微热点大赛\\DataMiningForCompetation')\n",
    "from db import MyDB\n",
    "#加载数据库\n",
    "db = MyDB(host='182.61.54.181', user='root', password='yW88224646!', db='WRD')"
   ]
  },
  {
   "cell_type": "code",
   "execution_count": 36,
   "outputs": [],
   "source": [
    "#加载使用库\n",
    "import pandas\n",
    "import os\n",
    "import numpy\n",
    "import jieba.posseg as pseg\n",
    "import re\n",
    "from tqdm import tqdm\n",
    "import json"
   ],
   "metadata": {
    "collapsed": false,
    "pycharm": {
     "name": "#%%\n"
    }
   }
  },
  {
   "cell_type": "code",
   "execution_count": 37,
   "outputs": [
    {
     "name": "stderr",
     "output_type": "stream",
     "text": [
      "  0%|                                                                                       | 0/221902 [00:00<?, ?it/s]Building prefix dict from the default dictionary ...\n",
      "Dumping model to file cache C:\\Users\\17797\\AppData\\Local\\Temp\\jieba.cache\n",
      "Loading model cost 0.709 seconds.\n",
      "Prefix dict has been built successfully.\n",
      "100%|█████████████████████████████████████████████████████████████████████████| 221902/221902 [04:52<00:00, 758.30it/s]\n",
      "100%|█████████████████████████████████████████████████████████████████████████| 392935/392935 [12:41<00:00, 515.95it/s]\n",
      "100%|█████████████████████████████████████████████████████████████████████████| 689909/689909 [21:30<00:00, 534.44it/s]\n",
      "100%|█████████████████████████████████████████████████████████████████████████| 360625/360625 [11:45<00:00, 511.42it/s]\n",
      "100%|█████████████████████████████████████████████████████████████████████████████| 1830/1830 [00:11<00:00, 159.56it/s]\n",
      "100%|███████████████████████████████████████████████████████████████████████████| 39914/39914 [01:39<00:00, 399.68it/s]\n",
      "100%|███████████████████████████████████████████████████████████████████████████| 17314/17314 [01:27<00:00, 197.57it/s]\n",
      "100%|███████████████████████████████████████████████████████████████████████████| 87024/87024 [03:17<00:00, 440.30it/s]\n",
      "100%|███████████████████████████████████████████████████████████████████████| 749899/749899 [1:04:20<00:00, 194.25it/s]\n",
      "100%|███████████████████████████████████████████████████████████████████████| 749917/749917 [1:04:48<00:00, 192.86it/s]\n",
      "100%|█████████████████████████████████████████████████████████████████████████| 519264/519264 [46:13<00:00, 187.23it/s]\n",
      "100%|███████████████████████████████████████████████████████████████████████████| 76049/76049 [01:42<00:00, 740.74it/s]\n",
      "100%|█████████████████████████████████████████████████████████████████████████████| 3654/3654 [00:26<00:00, 137.79it/s]\n",
      "100%|█████████████████████████████████████████████████████████████████████████████| 2426/2426 [00:06<00:00, 361.28it/s]\n",
      "100%|█████████████████████████████████████████████████████████████████████████████| 2226/2226 [00:03<00:00, 721.69it/s]\n",
      "100%|███████████████████████████████████████████████████████████████████████████| 16994/16994 [01:14<00:00, 229.40it/s]\n",
      "100%|█████████████████████████████████████████████████████████████████████████| 698270/698270 [40:35<00:00, 286.67it/s]\n",
      "100%|█████████████████████████████████████████████████████████████████████████| 491431/491431 [14:50<00:00, 551.83it/s]\n",
      "100%|█████████████████████████████████████████████████████████████████████████| 136483/136483 [04:01<00:00, 566.29it/s]\n"
     ]
    }
   ],
   "source": [
    "# [是否为默认文本,内容文本,内容表情,地域,城市,性别,粉丝数,微博数,转,评,赞,话题,微博情绪,精准地域,中图地址,\n",
    "# MD5-作者ID,MD5-mid,MD5-根微博mid,MD5-根微博用户UID,MD5-父微博ID,MD5-父微博用户ID]\n",
    "targetRoot = r'E:\\Download\\数据大赛\\选题1\\初步分词\\\\'\n",
    "sourceRoot = r'E:\\Download\\数据大赛\\选题1\\微博'\n",
    "needPartOfSpeech = ['a','ad','an']\n",
    "tl1 = []\n",
    "emotion = re.compile(r'(\\[.*?\\])')\n",
    "tag = re.compile(r'(#.*?#)')\n",
    "tags = []\n",
    "emotions = []\n",
    "files = None\n",
    "for root,dirs,fs in os.walk(sourceRoot):\n",
    "    files = fs\n",
    "    break\n",
    "for file in files:\n",
    "    fileAbsolutePath = sourceRoot+'\\\\'+file\n",
    "    dataFile = pandas.read_csv(fileAbsolutePath,encoding='gb18030')\n",
    "    tempList = []\n",
    "    for item in tqdm(dataFile.values):\n",
    "        temp = [int(item[0] == '转发微博 '),json.dumps(emotion.findall(item[0])), json.dumps(tag.findall(item[0])), item[0]]\n",
    "        for e in temp[1]:\n",
    "            temp[3] = temp[3].replace(e,'')\n",
    "        for t in temp[2]:\n",
    "            temp[3] = temp[3].replace(t,'')\n",
    "        if temp[3] == '转发微博 ':\n",
    "            temp[3] = ''\n",
    "        tempWords = []\n",
    "        words = pseg.cut(temp[3],use_paddle=True)\n",
    "        for word, flag in words:\n",
    "            if flag in needPartOfSpeech:\n",
    "                tempWords.append(word)\n",
    "        temp[3] = json.dumps(tempWords)\n",
    "        temp.append(int(item[1] == '敏感'))\n",
    "        temp.append(int(item[2] == '原创'))\n",
    "        for i in range(3,25):\n",
    "            if i == 9 or i == 4:\n",
    "                continue\n",
    "            temp.append(item[i])\n",
    "        tempList.append(temp)\n",
    "    tempList = pandas.DataFrame(tempList)\n",
    "    tempList.columns = ['是否为默认文本','内容表情','内容标签','过滤后内容分词json串','是否敏感','是否原创','发布日期','认证类型','地域','城市','性别','粉丝数','微博数','转','评','赞','话题','微博情绪','精准地域','中图地址',\n",
    "      'MD5-作者ID','MD5-mid','MD5-根微博mid','MD5-根微博用户UID','MD5-父微博ID','MD5-父微博用户ID']\n",
    "    tempList.to_csv(targetRoot+file,encoding='gb18030')"
   ],
   "metadata": {
    "collapsed": false,
    "pycharm": {
     "name": "#%%\n"
    }
   }
  },
  {
   "cell_type": "code",
   "execution_count": null,
   "outputs": [],
   "source": [],
   "metadata": {
    "collapsed": false,
    "pycharm": {
     "name": "#%%"
    }
   }
  }
 ],
 "metadata": {
  "kernelspec": {
   "display_name": "Python 3",
   "language": "python",
   "name": "python3"
  },
  "language_info": {
   "codemirror_mode": {
    "name": "ipython",
    "version": 2
   },
   "file_extension": ".py",
   "mimetype": "text/x-python",
   "name": "python",
   "nbconvert_exporter": "python",
   "pygments_lexer": "ipython2",
   "version": "2.7.6"
  }
 },
 "nbformat": 4,
 "nbformat_minor": 0
}